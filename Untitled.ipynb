{
 "cells": [
  {
   "cell_type": "code",
   "execution_count": 1,
   "id": "41ad6a0d-43aa-4b40-8b75-61d901087b9f",
   "metadata": {},
   "outputs": [],
   "source": [
    "import tkinter as tk\n",
    "\n",
    "# Function to update the display\n",
    "def update_display(value):\n",
    "    current_text = display_label[\"text\"]\n",
    "    if current_text == \"0\":\n",
    "        display_label[\"text\"] = value\n",
    "    else:\n",
    "        display_label[\"text\"] += value\n",
    "\n",
    "# Function to perform calculations\n",
    "def calculate():\n",
    "    expression = display_label[\"text\"]\n",
    "    try:\n",
    "        result = eval(expression)\n",
    "        display_label[\"text\"] = str(result)\n",
    "    except Exception:\n",
    "        display_label[\"text\"] = \"Error\"\n",
    "\n",
    "# Create the main window\n",
    "root = tk.Tk()\n",
    "root.title(\"Calculator\")\n",
    "\n",
    "# Display label\n",
    "display_label = tk.Label(root, text=\"0\", font=(\"Arial\", 20), anchor=\"e\", padx=10)\n",
    "display_label.grid(row=0, column=0, columnspan=4)\n",
    "\n",
    "# Buttons\n",
    "buttons = [\n",
    "    (\"1\", 1, 0), (\"2\", 1, 1), (\"3\", 1, 2), (\"/\", 1, 3),\n",
    "    (\"4\", 2, 0), (\"5\", 2, 1), (\"6\", 2, 2), (\"*\", 2, 3),\n",
    "    (\"7\", 3, 0), (\"8\", 3, 1), (\"9\", 3, 2), (\"-\", 3, 3),\n",
    "    (\"0\", 4, 0), (\".\", 4, 1), (\"=\", 4, 2), (\"+\", 4, 3)\n",
    "]\n",
    "\n",
    "for (text, row, col) in buttons:\n",
    "    btn = tk.Button(root, text=text, font=(\"Arial\", 16), padx=20, pady=10,\n",
    "                    command=lambda t=text: update_display(t) if t != \"=\" else calculate())\n",
    "    btn.grid(row=row, column=col, padx=5, pady=5)\n",
    "\n",
    "root.mainloop()\n"
   ]
  },
  {
   "cell_type": "code",
   "execution_count": 2,
   "id": "cd8a3aaf-7956-4ad0-9ace-c540b95da943",
   "metadata": {},
   "outputs": [],
   "source": [
    "def change_text():\n",
    "    label.config(text=\"welcome to python GUI applications\")\n",
    "    label.config(text=\"welcome to python GUI applications\")\n",
    "\n",
    "# Create the main window\n",
    "root = tk.Tk()\n",
    "root.title(\"Simple Program\")\n",
    "\n",
    "# Create a label\n",
    "label = tk.Label(root, text=\"Hello, world!\", font=(\"Arial\", 40))\n",
    "label.pack(pady=2)\n",
    "\n",
    "# Create a button\n",
    "button = tk.Button(root, text=\"Click Me!\", command=change_text)\n",
    "button.pack()\n",
    "\n",
    "# Run the application\n",
    "root.mainloop()"
   ]
  },
  {
   "cell_type": "code",
   "execution_count": 1,
   "id": "c00ed7a5-e15d-4d08-a5b2-40a383e50725",
   "metadata": {},
   "outputs": [
    {
     "name": "stdout",
     "output_type": "stream",
     "text": [
      "Requirement already satisfied: pygame in c:\\users\\vishw\\anaconda3\\lib\\site-packages (2.6.1)\n",
      "Note: you may need to restart the kernel to use updated packages.\n"
     ]
    }
   ],
   "source": [
    "pip install pygame"
   ]
  },
  {
   "cell_type": "code",
   "execution_count": 3,
   "id": "d9f74a5b-27ed-46e9-9072-d189bbfe7886",
   "metadata": {},
   "outputs": [
    {
     "name": "stdout",
     "output_type": "stream",
     "text": [
      "pygame 2.6.1 (SDL 2.28.4, Python 3.12.7)\n",
      "Hello from the pygame community. https://www.pygame.org/contribute.html\n",
      "Game Over!\n"
     ]
    }
   ],
   "source": [
    "import pygame\n",
    "import random\n",
    "\n",
    "# Initialize Pygame\n",
    "pygame.init()\n",
    "\n",
    "# Screen dimensions\n",
    "WIDTH, HEIGHT = 800, 600\n",
    "screen = pygame.display.set_mode((WIDTH, HEIGHT))\n",
    "pygame.display.set_caption(\"Dodge the Falling Blocks\")\n",
    "\n",
    "# Colors\n",
    "WHITE = (255, 255, 255)\n",
    "BLACK = (0, 0, 0)\n",
    "RED   = (255, 0, 0)\n",
    "\n",
    "# Player settings\n",
    "player_size = 50\n",
    "player_pos = [WIDTH // 2, HEIGHT - 2 * player_size]\n",
    "player_speed = 10\n",
    "\n",
    "# Enemy settings\n",
    "enemy_size = 50\n",
    "enemy_pos = [random.randint(0, WIDTH - enemy_size), 0]\n",
    "enemy_speed = 10\n",
    "\n",
    "# Clock\n",
    "clock = pygame.time.Clock()\n",
    "\n",
    "# Game loop\n",
    "running = True\n",
    "while running:\n",
    "    screen.fill(WHITE)\n",
    "\n",
    "    for event in pygame.event.get():\n",
    "        if event.type == pygame.QUIT:\n",
    "            running = False\n",
    "\n",
    "    # Move player\n",
    "    keys = pygame.key.get_pressed()\n",
    "    if keys[pygame.K_LEFT] and player_pos[0] > 0:\n",
    "        player_pos[0] -= player_speed\n",
    "    if keys[pygame.K_RIGHT] and player_pos[0] < WIDTH - player_size:\n",
    "        player_pos[0] += player_speed\n",
    "\n",
    "    # Move enemy\n",
    "    enemy_pos[1] += enemy_speed\n",
    "    if enemy_pos[1] > HEIGHT:\n",
    "        enemy_pos[1] = 0\n",
    "        enemy_pos[0] = random.randint(0, WIDTH - enemy_size)\n",
    "\n",
    "    # Collision detection\n",
    "    player_rect = pygame.Rect(*player_pos, player_size, player_size)\n",
    "    enemy_rect = pygame.Rect(*enemy_pos, enemy_size, enemy_size)\n",
    "    if player_rect.colliderect(enemy_rect):\n",
    "        print(\"Game Over!\")\n",
    "        running = False\n",
    "\n",
    "    # Draw player and enemy\n",
    "    pygame.draw.rect(screen, BLACK, player_rect)\n",
    "    pygame.draw.rect(screen, RED, enemy_rect)\n",
    "\n",
    "    pygame.display.update()\n",
    "    clock.tick(30)\n",
    "\n",
    "pygame.quit()\n"
   ]
  }
 ],
 "metadata": {
  "kernelspec": {
   "display_name": "Python [conda env:base] *",
   "language": "python",
   "name": "conda-base-py"
  },
  "language_info": {
   "codemirror_mode": {
    "name": "ipython",
    "version": 3
   },
   "file_extension": ".py",
   "mimetype": "text/x-python",
   "name": "python",
   "nbconvert_exporter": "python",
   "pygments_lexer": "ipython3",
   "version": "3.12.7"
  }
 },
 "nbformat": 4,
 "nbformat_minor": 5
}
